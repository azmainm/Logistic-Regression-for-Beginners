{
 "cells": [
  {
   "cell_type": "markdown",
   "id": "af80f50f",
   "metadata": {
    "papermill": {
     "duration": 0.019841,
     "end_time": "2021-09-28T15:18:08.088434",
     "exception": false,
     "start_time": "2021-09-28T15:18:08.068593",
     "status": "completed"
    },
    "tags": []
   },
   "source": [
    "# Introduction"
   ]
  },
  {
   "cell_type": "markdown",
   "id": "2b10d07d",
   "metadata": {
    "papermill": {
     "duration": 0.019743,
     "end_time": "2021-09-28T15:18:08.130172",
     "exception": false,
     "start_time": "2021-09-28T15:18:08.110429",
     "status": "completed"
    },
    "tags": []
   },
   "source": [
    "**This notebook is a guide for beginners into machine learning, logistic regression to be more specific. There will be comments every step of the way so there is a clear understanding. We will be building a system that predicts whether a person has heart disease or not.**"
   ]
  },
  {
   "cell_type": "markdown",
   "id": "362b0431",
   "metadata": {
    "papermill": {
     "duration": 0.018912,
     "end_time": "2021-09-28T15:18:08.168554",
     "exception": false,
     "start_time": "2021-09-28T15:18:08.149642",
     "status": "completed"
    },
    "tags": []
   },
   "source": [
    "# Supervised Machine Learning"
   ]
  },
  {
   "cell_type": "markdown",
   "id": "e3f1df4f",
   "metadata": {
    "papermill": {
     "duration": 0.01868,
     "end_time": "2021-09-28T15:18:08.207550",
     "exception": false,
     "start_time": "2021-09-28T15:18:08.188870",
     "status": "completed"
    },
    "tags": []
   },
   "source": [
    "**Machine learning is divided into supervised and unsupervised learning. We train our model with data that we have previously acquired in supervised learning. In unsupervised learning, we have no data that we can train our model with.**\n",
    "\n",
    "**Supervised machine learning is divided into classification and regression. In classification, we predict discrete values, e.g. Yes/No, Customer will purchase/Won't purchase. But in regression, we predict continuous values, such as age, price, etc.**"
   ]
  },
  {
   "cell_type": "markdown",
   "id": "e1e5fc3b",
   "metadata": {
    "papermill": {
     "duration": 0.018623,
     "end_time": "2021-09-28T15:18:08.245190",
     "exception": false,
     "start_time": "2021-09-28T15:18:08.226567",
     "status": "completed"
    },
    "tags": []
   },
   "source": [
    "# Logistic Regression"
   ]
  },
  {
   "cell_type": "markdown",
   "id": "640eb193",
   "metadata": {
    "papermill": {
     "duration": 0.0181,
     "end_time": "2021-09-28T15:18:08.281948",
     "exception": false,
     "start_time": "2021-09-28T15:18:08.263848",
     "status": "completed"
    },
    "tags": []
   },
   "source": [
    "**Don’t confuse this classification algorithms with regression methods for using regression in its title. Logistic regression performs binary classification, so the label outputs are binary. We can also think of logistic regression as a special case of linear regression when the output variable is categorical, where we are using a log of odds as the dependent variable.**"
   ]
  },
  {
   "cell_type": "markdown",
   "id": "a967c507",
   "metadata": {
    "papermill": {
     "duration": 0.017949,
     "end_time": "2021-09-28T15:18:08.318606",
     "exception": false,
     "start_time": "2021-09-28T15:18:08.300657",
     "status": "completed"
    },
    "tags": []
   },
   "source": [
    "# Importing Libraries and dataset"
   ]
  },
  {
   "cell_type": "code",
   "execution_count": 1,
   "id": "329fd41c",
   "metadata": {
    "_cell_guid": "b1076dfc-b9ad-4769-8c92-a6c4dae69d19",
    "_uuid": "8f2839f25d086af736a60e9eeb907d3b93b6e0e5",
    "execution": {
     "iopub.execute_input": "2021-09-28T15:18:08.365453Z",
     "iopub.status.busy": "2021-09-28T15:18:08.364845Z",
     "iopub.status.idle": "2021-09-28T15:18:09.474375Z",
     "shell.execute_reply": "2021-09-28T15:18:09.473320Z",
     "shell.execute_reply.started": "2021-09-28T15:11:21.768276Z"
    },
    "papermill": {
     "duration": 1.13769,
     "end_time": "2021-09-28T15:18:09.474545",
     "exception": false,
     "start_time": "2021-09-28T15:18:08.336855",
     "status": "completed"
    },
    "tags": []
   },
   "outputs": [],
   "source": [
    "import numpy as np\n",
    "import pandas as pd \n",
    "import matplotlib.pyplot as plt\n",
    "import seaborn as sns\n",
    "from sklearn.model_selection import train_test_split\n",
    "from sklearn.linear_model import LogisticRegression\n",
    "from sklearn.metrics import accuracy_score"
   ]
  },
  {
   "cell_type": "code",
   "execution_count": 2,
   "id": "2504ca55",
   "metadata": {
    "execution": {
     "iopub.execute_input": "2021-09-28T15:18:09.524119Z",
     "iopub.status.busy": "2021-09-28T15:18:09.523418Z",
     "iopub.status.idle": "2021-09-28T15:18:09.563505Z",
     "shell.execute_reply": "2021-09-28T15:18:09.563947Z",
     "shell.execute_reply.started": "2021-09-28T15:11:21.778639Z"
    },
    "papermill": {
     "duration": 0.064429,
     "end_time": "2021-09-28T15:18:09.564102",
     "exception": false,
     "start_time": "2021-09-28T15:18:09.499673",
     "status": "completed"
    },
    "tags": []
   },
   "outputs": [
    {
     "data": {
      "text/html": [
       "<div>\n",
       "<style scoped>\n",
       "    .dataframe tbody tr th:only-of-type {\n",
       "        vertical-align: middle;\n",
       "    }\n",
       "\n",
       "    .dataframe tbody tr th {\n",
       "        vertical-align: top;\n",
       "    }\n",
       "\n",
       "    .dataframe thead th {\n",
       "        text-align: right;\n",
       "    }\n",
       "</style>\n",
       "<table border=\"1\" class=\"dataframe\">\n",
       "  <thead>\n",
       "    <tr style=\"text-align: right;\">\n",
       "      <th></th>\n",
       "      <th>age</th>\n",
       "      <th>sex</th>\n",
       "      <th>cp</th>\n",
       "      <th>trestbps</th>\n",
       "      <th>chol</th>\n",
       "      <th>fbs</th>\n",
       "      <th>restecg</th>\n",
       "      <th>thalach</th>\n",
       "      <th>exang</th>\n",
       "      <th>oldpeak</th>\n",
       "      <th>slope</th>\n",
       "      <th>ca</th>\n",
       "      <th>thal</th>\n",
       "      <th>target</th>\n",
       "    </tr>\n",
       "  </thead>\n",
       "  <tbody>\n",
       "    <tr>\n",
       "      <th>0</th>\n",
       "      <td>63</td>\n",
       "      <td>1</td>\n",
       "      <td>3</td>\n",
       "      <td>145</td>\n",
       "      <td>233</td>\n",
       "      <td>1</td>\n",
       "      <td>0</td>\n",
       "      <td>150</td>\n",
       "      <td>0</td>\n",
       "      <td>2.3</td>\n",
       "      <td>0</td>\n",
       "      <td>0</td>\n",
       "      <td>1</td>\n",
       "      <td>1</td>\n",
       "    </tr>\n",
       "    <tr>\n",
       "      <th>1</th>\n",
       "      <td>37</td>\n",
       "      <td>1</td>\n",
       "      <td>2</td>\n",
       "      <td>130</td>\n",
       "      <td>250</td>\n",
       "      <td>0</td>\n",
       "      <td>1</td>\n",
       "      <td>187</td>\n",
       "      <td>0</td>\n",
       "      <td>3.5</td>\n",
       "      <td>0</td>\n",
       "      <td>0</td>\n",
       "      <td>2</td>\n",
       "      <td>1</td>\n",
       "    </tr>\n",
       "    <tr>\n",
       "      <th>2</th>\n",
       "      <td>41</td>\n",
       "      <td>0</td>\n",
       "      <td>1</td>\n",
       "      <td>130</td>\n",
       "      <td>204</td>\n",
       "      <td>0</td>\n",
       "      <td>0</td>\n",
       "      <td>172</td>\n",
       "      <td>0</td>\n",
       "      <td>1.4</td>\n",
       "      <td>2</td>\n",
       "      <td>0</td>\n",
       "      <td>2</td>\n",
       "      <td>1</td>\n",
       "    </tr>\n",
       "    <tr>\n",
       "      <th>3</th>\n",
       "      <td>56</td>\n",
       "      <td>1</td>\n",
       "      <td>1</td>\n",
       "      <td>120</td>\n",
       "      <td>236</td>\n",
       "      <td>0</td>\n",
       "      <td>1</td>\n",
       "      <td>178</td>\n",
       "      <td>0</td>\n",
       "      <td>0.8</td>\n",
       "      <td>2</td>\n",
       "      <td>0</td>\n",
       "      <td>2</td>\n",
       "      <td>1</td>\n",
       "    </tr>\n",
       "    <tr>\n",
       "      <th>4</th>\n",
       "      <td>57</td>\n",
       "      <td>0</td>\n",
       "      <td>0</td>\n",
       "      <td>120</td>\n",
       "      <td>354</td>\n",
       "      <td>0</td>\n",
       "      <td>1</td>\n",
       "      <td>163</td>\n",
       "      <td>1</td>\n",
       "      <td>0.6</td>\n",
       "      <td>2</td>\n",
       "      <td>0</td>\n",
       "      <td>2</td>\n",
       "      <td>1</td>\n",
       "    </tr>\n",
       "  </tbody>\n",
       "</table>\n",
       "</div>"
      ],
      "text/plain": [
       "   age  sex  cp  trestbps  chol  fbs  restecg  thalach  exang  oldpeak  slope  \\\n",
       "0   63    1   3       145   233    1        0      150      0      2.3      0   \n",
       "1   37    1   2       130   250    0        1      187      0      3.5      0   \n",
       "2   41    0   1       130   204    0        0      172      0      1.4      2   \n",
       "3   56    1   1       120   236    0        1      178      0      0.8      2   \n",
       "4   57    0   0       120   354    0        1      163      1      0.6      2   \n",
       "\n",
       "   ca  thal  target  \n",
       "0   0     1       1  \n",
       "1   0     2       1  \n",
       "2   0     2       1  \n",
       "3   0     2       1  \n",
       "4   0     2       1  "
      ]
     },
     "execution_count": 2,
     "metadata": {},
     "output_type": "execute_result"
    }
   ],
   "source": [
    "heart_data = pd.read_csv(\"../input/heart-disease-uci/heart.csv\")\n",
    "heart_data.head()"
   ]
  },
  {
   "cell_type": "markdown",
   "id": "24a6c239",
   "metadata": {
    "papermill": {
     "duration": 0.018904,
     "end_time": "2021-09-28T15:18:09.602524",
     "exception": false,
     "start_time": "2021-09-28T15:18:09.583620",
     "status": "completed"
    },
    "tags": []
   },
   "source": [
    "**1 means the person has heart disease and 0 means they don't.**"
   ]
  },
  {
   "cell_type": "markdown",
   "id": "e0161237",
   "metadata": {
    "papermill": {
     "duration": 0.018605,
     "end_time": "2021-09-28T15:18:09.640795",
     "exception": false,
     "start_time": "2021-09-28T15:18:09.622190",
     "status": "completed"
    },
    "tags": []
   },
   "source": [
    "# Missing Values"
   ]
  },
  {
   "cell_type": "code",
   "execution_count": 3,
   "id": "56d27758",
   "metadata": {
    "execution": {
     "iopub.execute_input": "2021-09-28T15:18:09.682184Z",
     "iopub.status.busy": "2021-09-28T15:18:09.681643Z",
     "iopub.status.idle": "2021-09-28T15:18:09.705229Z",
     "shell.execute_reply": "2021-09-28T15:18:09.704763Z",
     "shell.execute_reply.started": "2021-09-28T15:11:21.814128Z"
    },
    "papermill": {
     "duration": 0.045699,
     "end_time": "2021-09-28T15:18:09.705387",
     "exception": false,
     "start_time": "2021-09-28T15:18:09.659688",
     "status": "completed"
    },
    "tags": []
   },
   "outputs": [
    {
     "name": "stdout",
     "output_type": "stream",
     "text": [
      "<class 'pandas.core.frame.DataFrame'>\n",
      "RangeIndex: 303 entries, 0 to 302\n",
      "Data columns (total 14 columns):\n",
      " #   Column    Non-Null Count  Dtype  \n",
      "---  ------    --------------  -----  \n",
      " 0   age       303 non-null    int64  \n",
      " 1   sex       303 non-null    int64  \n",
      " 2   cp        303 non-null    int64  \n",
      " 3   trestbps  303 non-null    int64  \n",
      " 4   chol      303 non-null    int64  \n",
      " 5   fbs       303 non-null    int64  \n",
      " 6   restecg   303 non-null    int64  \n",
      " 7   thalach   303 non-null    int64  \n",
      " 8   exang     303 non-null    int64  \n",
      " 9   oldpeak   303 non-null    float64\n",
      " 10  slope     303 non-null    int64  \n",
      " 11  ca        303 non-null    int64  \n",
      " 12  thal      303 non-null    int64  \n",
      " 13  target    303 non-null    int64  \n",
      "dtypes: float64(1), int64(13)\n",
      "memory usage: 33.3 KB\n"
     ]
    }
   ],
   "source": [
    "heart_data.info()"
   ]
  },
  {
   "cell_type": "markdown",
   "id": "8aea1fb0",
   "metadata": {
    "papermill": {
     "duration": 0.019543,
     "end_time": "2021-09-28T15:18:09.744232",
     "exception": false,
     "start_time": "2021-09-28T15:18:09.724689",
     "status": "completed"
    },
    "tags": []
   },
   "source": [
    "**Good thing we have no missing values in this dataset so no imputation (replacing missing values with other appropriate ones) necessary.**"
   ]
  },
  {
   "cell_type": "markdown",
   "id": "0b537196",
   "metadata": {
    "papermill": {
     "duration": 0.018974,
     "end_time": "2021-09-28T15:18:09.782617",
     "exception": false,
     "start_time": "2021-09-28T15:18:09.763643",
     "status": "completed"
    },
    "tags": []
   },
   "source": [
    "# Exploratory Data Analysis"
   ]
  },
  {
   "cell_type": "code",
   "execution_count": 4,
   "id": "035ff039",
   "metadata": {
    "execution": {
     "iopub.execute_input": "2021-09-28T15:18:09.824234Z",
     "iopub.status.busy": "2021-09-28T15:18:09.823691Z",
     "iopub.status.idle": "2021-09-28T15:18:11.176299Z",
     "shell.execute_reply": "2021-09-28T15:18:11.175620Z",
     "shell.execute_reply.started": "2021-09-28T15:11:21.828546Z"
    },
    "papermill": {
     "duration": 1.374617,
     "end_time": "2021-09-28T15:18:11.176436",
     "exception": false,
     "start_time": "2021-09-28T15:18:09.801819",
     "status": "completed"
    },
    "tags": []
   },
   "outputs": [
    {
     "data": {
      "text/plain": [
       "<AxesSubplot:>"
      ]
     },
     "execution_count": 4,
     "metadata": {},
     "output_type": "execute_result"
    },
    {
     "data": {
      "image/png": "[encoded data removed]",
      "text/plain": [
       "<Figure size 576x576 with 2 Axes>"
      ]
     },
     "metadata": {
      "needs_background": "light"
     },
     "output_type": "display_data"
    }
   ],
   "source": [
    "# We can use a heatmap to check correlation between the variables.\n",
    "corr = heart_data.corr()\n",
    "plt.figure(figsize=(8,8))\n",
    "sns.heatmap(corr,cbar=True,square=True,fmt='.1f',annot=True,cmap='Reds')"
   ]
  },
  {
   "cell_type": "markdown",
   "id": "e2072a07",
   "metadata": {
    "papermill": {
     "duration": 0.021838,
     "end_time": "2021-09-28T15:18:11.221060",
     "exception": false,
     "start_time": "2021-09-28T15:18:11.199222",
     "status": "completed"
    },
    "tags": []
   },
   "source": [
    "**We can make observations such as, as chest pain (cp) increases, the likelihood of having heart disease increases. As oldpeak increases,the likelihood of having heart disease decreases.**"
   ]
  },
  {
   "cell_type": "code",
   "execution_count": 5,
   "id": "d0a529fb",
   "metadata": {
    "execution": {
     "iopub.execute_input": "2021-09-28T15:18:11.274732Z",
     "iopub.status.busy": "2021-09-28T15:18:11.272876Z",
     "iopub.status.idle": "2021-09-28T15:18:11.469933Z",
     "shell.execute_reply": "2021-09-28T15:18:11.469456Z",
     "shell.execute_reply.started": "2021-09-28T15:11:23.114306Z"
    },
    "papermill": {
     "duration": 0.226712,
     "end_time": "2021-09-28T15:18:11.470064",
     "exception": false,
     "start_time": "2021-09-28T15:18:11.243352",
     "status": "completed"
    },
    "tags": []
   },
   "outputs": [
    {
     "data": {
      "text/plain": [
       "<AxesSubplot:xlabel='target', ylabel='count'>"
      ]
     },
     "execution_count": 5,
     "metadata": {},
     "output_type": "execute_result"
    },
    {
     "data": {
      "image/png": "[encoded data removed]",
      "text/plain": [
       "<Figure size 720x720 with 1 Axes>"
      ]
     },
     "metadata": {
      "needs_background": "light"
     },
     "output_type": "display_data"
    }
   ],
   "source": [
    "plt.figure(figsize=(10,10))\n",
    "sns.countplot(x=\"target\", data=heart_data)"
   ]
  },
  {
   "cell_type": "markdown",
   "id": "f9a5222e",
   "metadata": {
    "papermill": {
     "duration": 0.022425,
     "end_time": "2021-09-28T15:18:11.515846",
     "exception": false,
     "start_time": "2021-09-28T15:18:11.493421",
     "status": "completed"
    },
    "tags": []
   },
   "source": [
    "**We have more samples of people with heart disease. Also, we only have 303 samples total which is very less. Predictions would be more reliable if we had more data.**"
   ]
  },
  {
   "cell_type": "code",
   "execution_count": 6,
   "id": "a10a34ab",
   "metadata": {
    "execution": {
     "iopub.execute_input": "2021-09-28T15:18:11.591101Z",
     "iopub.status.busy": "2021-09-28T15:18:11.590511Z",
     "iopub.status.idle": "2021-09-28T15:18:11.826140Z",
     "shell.execute_reply": "2021-09-28T15:18:11.826560Z",
     "shell.execute_reply.started": "2021-09-28T15:11:23.478210Z"
    },
    "papermill": {
     "duration": 0.288181,
     "end_time": "2021-09-28T15:18:11.826722",
     "exception": false,
     "start_time": "2021-09-28T15:18:11.538541",
     "status": "completed"
    },
    "tags": []
   },
   "outputs": [
    {
     "data": {
      "text/plain": [
       "<matplotlib.legend.Legend at 0x7f50786c6050>"
      ]
     },
     "execution_count": 6,
     "metadata": {},
     "output_type": "execute_result"
    },
    {
     "data": {
      "image/png": "[encoded data removed]",
      "text/plain": [
       "<Figure size 720x720 with 1 Axes>"
      ]
     },
     "metadata": {
      "needs_background": "light"
     },
     "output_type": "display_data"
    }
   ],
   "source": [
    "# Heart disease across ages\n",
    "plt.figure(figsize=(10,10))\n",
    "plt.scatter(x=heart_data.age[heart_data.target == 1] , y=heart_data.thalach[heart_data.target == 1],c='black')\n",
    "plt.xlabel('Age')\n",
    "plt.ylabel('Maximum Heart Rate')\n",
    "plt.legend(['Has heart disease'])"
   ]
  },
  {
   "cell_type": "markdown",
   "id": "49bdbcae",
   "metadata": {
    "papermill": {
     "duration": 0.023374,
     "end_time": "2021-09-28T15:18:11.873704",
     "exception": false,
     "start_time": "2021-09-28T15:18:11.850330",
     "status": "completed"
    },
    "tags": []
   },
   "source": [
    "**We can see a lot of cluster around the ages 40-60 so most heart patients are around these ages.**"
   ]
  },
  {
   "cell_type": "code",
   "execution_count": 7,
   "id": "e53d2ca9",
   "metadata": {
    "execution": {
     "iopub.execute_input": "2021-09-28T15:18:11.924215Z",
     "iopub.status.busy": "2021-09-28T15:18:11.923665Z",
     "iopub.status.idle": "2021-09-28T15:18:12.139484Z",
     "shell.execute_reply": "2021-09-28T15:18:12.138742Z",
     "shell.execute_reply.started": "2021-09-28T15:11:23.760776Z"
    },
    "papermill": {
     "duration": 0.242239,
     "end_time": "2021-09-28T15:18:12.139626",
     "exception": false,
     "start_time": "2021-09-28T15:18:11.897387",
     "status": "completed"
    },
    "tags": []
   },
   "outputs": [
    {
     "data": {
      "text/plain": [
       "<matplotlib.legend.Legend at 0x7f507871f490>"
      ]
     },
     "execution_count": 7,
     "metadata": {},
     "output_type": "execute_result"
    },
    {
     "data": {
      "image/png": "[encoded data removed]",
      "text/plain": [
       "<Figure size 720x720 with 1 Axes>"
      ]
     },
     "metadata": {
      "needs_background": "light"
     },
     "output_type": "display_data"
    }
   ],
   "source": [
    "# Heart disease across sexes\n",
    "plt.figure(figsize=(10,10))\n",
    "sns.countplot(data=heart_data,x='sex',hue='target')\n",
    "plt.xticks(ticks = [0,1], labels = ['Female','Male'])\n",
    "plt.legend([\"Doesn't have heart disease\", 'Has heart disease'])"
   ]
  },
  {
   "cell_type": "markdown",
   "id": "4e5cc5e1",
   "metadata": {
    "papermill": {
     "duration": 0.025149,
     "end_time": "2021-09-28T15:18:12.189858",
     "exception": false,
     "start_time": "2021-09-28T15:18:12.164709",
     "status": "completed"
    },
    "tags": []
   },
   "source": [
    "**This graph tells us that females tend to have heart disease more but males do not. This could be true but we do have very less samples of females in comparison to males, so this data isn't completely reliable.**"
   ]
  },
  {
   "cell_type": "markdown",
   "id": "3f9ce230",
   "metadata": {
    "papermill": {
     "duration": 0.025066,
     "end_time": "2021-09-28T15:18:12.240920",
     "exception": false,
     "start_time": "2021-09-28T15:18:12.215854",
     "status": "completed"
    },
    "tags": []
   },
   "source": [
    "# Splitting Data"
   ]
  },
  {
   "cell_type": "code",
   "execution_count": 8,
   "id": "0cd58572",
   "metadata": {
    "execution": {
     "iopub.execute_input": "2021-09-28T15:18:12.294925Z",
     "iopub.status.busy": "2021-09-28T15:18:12.294335Z",
     "iopub.status.idle": "2021-09-28T15:18:12.300848Z",
     "shell.execute_reply": "2021-09-28T15:18:12.300418Z",
     "shell.execute_reply.started": "2021-09-28T15:11:24.000214Z"
    },
    "papermill": {
     "duration": 0.034791,
     "end_time": "2021-09-28T15:18:12.300975",
     "exception": false,
     "start_time": "2021-09-28T15:18:12.266184",
     "status": "completed"
    },
    "tags": []
   },
   "outputs": [],
   "source": [
    "# We need to split the data\n",
    "X = heart_data.drop(['target'],axis=1) # We need all the variables (columns) as independent variables so we're just dropping the target column to make things easier.\n",
    "y = heart_data['target'] # Target."
   ]
  },
  {
   "cell_type": "code",
   "execution_count": 9,
   "id": "a4102318",
   "metadata": {
    "execution": {
     "iopub.execute_input": "2021-09-28T15:18:12.353718Z",
     "iopub.status.busy": "2021-09-28T15:18:12.353121Z",
     "iopub.status.idle": "2021-09-28T15:18:12.358918Z",
     "shell.execute_reply": "2021-09-28T15:18:12.359405Z",
     "shell.execute_reply.started": "2021-09-28T15:11:24.008105Z"
    },
    "papermill": {
     "duration": 0.033895,
     "end_time": "2021-09-28T15:18:12.359557",
     "exception": false,
     "start_time": "2021-09-28T15:18:12.325662",
     "status": "completed"
    },
    "tags": []
   },
   "outputs": [],
   "source": [
    "# Then we split the data into training and testing data\n",
    "X_train, X_test, y_train, y_test = train_test_split(X,y,test_size = 0.2, random_state = 2) # 80% data will be used for training the model and rest 20% for testing."
   ]
  },
  {
   "cell_type": "code",
   "execution_count": 10,
   "id": "42465fc5",
   "metadata": {
    "execution": {
     "iopub.execute_input": "2021-09-28T15:18:12.412682Z",
     "iopub.status.busy": "2021-09-28T15:18:12.411789Z",
     "iopub.status.idle": "2021-09-28T15:18:12.416202Z",
     "shell.execute_reply": "2021-09-28T15:18:12.416680Z",
     "shell.execute_reply.started": "2021-09-28T15:11:24.022304Z"
    },
    "papermill": {
     "duration": 0.032715,
     "end_time": "2021-09-28T15:18:12.416829",
     "exception": false,
     "start_time": "2021-09-28T15:18:12.384114",
     "status": "completed"
    },
    "tags": []
   },
   "outputs": [
    {
     "name": "stdout",
     "output_type": "stream",
     "text": [
      "(303, 13) (242, 13)\n"
     ]
    }
   ],
   "source": [
    "print(X.shape,X_train.shape)"
   ]
  },
  {
   "cell_type": "markdown",
   "id": "0bc59525",
   "metadata": {
    "papermill": {
     "duration": 0.024588,
     "end_time": "2021-09-28T15:18:12.467035",
     "exception": false,
     "start_time": "2021-09-28T15:18:12.442447",
     "status": "completed"
    },
    "tags": []
   },
   "source": [
    "**As we can see, 242 rows are used for testing out of 303 which is about 79.9% of the data.**"
   ]
  },
  {
   "cell_type": "markdown",
   "id": "985e2b9e",
   "metadata": {
    "papermill": {
     "duration": 0.024522,
     "end_time": "2021-09-28T15:18:12.516423",
     "exception": false,
     "start_time": "2021-09-28T15:18:12.491901",
     "status": "completed"
    },
    "tags": []
   },
   "source": [
    "# Model Building"
   ]
  },
  {
   "cell_type": "markdown",
   "id": "2e23185b",
   "metadata": {
    "papermill": {
     "duration": 0.024572,
     "end_time": "2021-09-28T15:18:12.566639",
     "exception": false,
     "start_time": "2021-09-28T15:18:12.542067",
     "status": "completed"
    },
    "tags": []
   },
   "source": [
    "**We're going to use a logistics regression model.**"
   ]
  },
  {
   "cell_type": "code",
   "execution_count": 11,
   "id": "e719da65",
   "metadata": {
    "execution": {
     "iopub.execute_input": "2021-09-28T15:18:12.621039Z",
     "iopub.status.busy": "2021-09-28T15:18:12.620385Z",
     "iopub.status.idle": "2021-09-28T15:18:12.622566Z",
     "shell.execute_reply": "2021-09-28T15:18:12.623049Z",
     "shell.execute_reply.started": "2021-09-28T15:13:13.125175Z"
    },
    "papermill": {
     "duration": 0.031709,
     "end_time": "2021-09-28T15:18:12.623216",
     "exception": false,
     "start_time": "2021-09-28T15:18:12.591507",
     "status": "completed"
    },
    "tags": []
   },
   "outputs": [],
   "source": [
    "model = LogisticRegression(solver='liblinear')"
   ]
  },
  {
   "cell_type": "code",
   "execution_count": 12,
   "id": "450c2cdf",
   "metadata": {
    "execution": {
     "iopub.execute_input": "2021-09-28T15:18:12.676916Z",
     "iopub.status.busy": "2021-09-28T15:18:12.676367Z",
     "iopub.status.idle": "2021-09-28T15:18:12.686098Z",
     "shell.execute_reply": "2021-09-28T15:18:12.685626Z",
     "shell.execute_reply.started": "2021-09-28T15:13:15.699393Z"
    },
    "papermill": {
     "duration": 0.038006,
     "end_time": "2021-09-28T15:18:12.686224",
     "exception": false,
     "start_time": "2021-09-28T15:18:12.648218",
     "status": "completed"
    },
    "tags": []
   },
   "outputs": [
    {
     "data": {
      "text/plain": [
       "LogisticRegression(solver='liblinear')"
      ]
     },
     "execution_count": 12,
     "metadata": {},
     "output_type": "execute_result"
    }
   ],
   "source": [
    "# Now we need to train the model\n",
    "model.fit(X_train,y_train) # fitting means training"
   ]
  },
  {
   "cell_type": "markdown",
   "id": "6a71c137",
   "metadata": {
    "papermill": {
     "duration": 0.024924,
     "end_time": "2021-09-28T15:18:12.736569",
     "exception": false,
     "start_time": "2021-09-28T15:18:12.711645",
     "status": "completed"
    },
    "tags": []
   },
   "source": [
    "# Prediction and Evaluation of the Model"
   ]
  },
  {
   "cell_type": "markdown",
   "id": "24b42c25",
   "metadata": {
    "papermill": {
     "duration": 0.025031,
     "end_time": "2021-09-28T15:18:12.786803",
     "exception": false,
     "start_time": "2021-09-28T15:18:12.761772",
     "status": "completed"
    },
    "tags": []
   },
   "source": [
    "**First, we need to use the model to predict heart disease/not from the training data. Then, we check our model's accuracy using accuracy score (for classification).**"
   ]
  },
  {
   "cell_type": "code",
   "execution_count": 13,
   "id": "a2523cab",
   "metadata": {
    "execution": {
     "iopub.execute_input": "2021-09-28T15:18:12.845004Z",
     "iopub.status.busy": "2021-09-28T15:18:12.844424Z",
     "iopub.status.idle": "2021-09-28T15:18:12.846883Z",
     "shell.execute_reply": "2021-09-28T15:18:12.847358Z",
     "shell.execute_reply.started": "2021-09-28T15:14:28.662813Z"
    },
    "papermill": {
     "duration": 0.035363,
     "end_time": "2021-09-28T15:18:12.847520",
     "exception": false,
     "start_time": "2021-09-28T15:18:12.812157",
     "status": "completed"
    },
    "tags": []
   },
   "outputs": [
    {
     "data": {
      "text/plain": [
       "array([0, 1, 1, 1, 1, 1, 1, 1, 1, 0, 1, 0, 0, 1, 1, 1, 1, 0, 1, 0, 1, 1,\n",
       "       1, 1, 1, 0, 1, 1, 1, 1, 1, 0, 1, 1, 1, 1, 1, 1, 1, 0, 1, 1, 1, 1,\n",
       "       0, 0, 1, 0, 1, 1, 0, 1, 1, 1, 1, 1, 1, 0, 0, 0, 1, 1, 1, 1, 1, 1,\n",
       "       1, 0, 0, 1, 0, 0, 0, 0, 0, 1, 1, 1, 1, 0, 1, 0, 1, 1, 0, 1, 0, 0,\n",
       "       1, 1, 1, 0, 1, 1, 0, 1, 1, 1, 0, 1, 1, 0, 1, 1, 1, 1, 0, 1, 0, 0,\n",
       "       0, 1, 0, 0, 1, 1, 1, 1, 1, 0, 0, 1, 1, 0, 1, 0, 1, 0, 0, 1, 1, 0,\n",
       "       1, 1, 1, 1, 1, 1, 0, 0, 1, 1, 1, 1, 0, 1, 1, 1, 0, 1, 0, 0, 0, 0,\n",
       "       1, 1, 1, 1, 0, 0, 1, 0, 0, 0, 0, 1, 0, 0, 1, 0, 0, 1, 0, 1, 1, 1,\n",
       "       1, 1, 1, 1, 1, 0, 1, 1, 0, 1, 1, 1, 1, 0, 1, 0, 0, 1, 1, 1, 1, 1,\n",
       "       0, 0, 1, 1, 0, 0, 1, 1, 0, 0, 1, 1, 0, 0, 1, 1, 1, 0, 1, 1, 0, 1,\n",
       "       0, 1, 0, 0, 1, 0, 0, 1, 1, 0, 1, 1, 0, 0, 0, 1, 0, 1, 1, 1, 1, 0])"
      ]
     },
     "execution_count": 13,
     "metadata": {},
     "output_type": "execute_result"
    }
   ],
   "source": [
    "train_pred = model.predict(X_train)\n",
    "train_pred"
   ]
  },
  {
   "cell_type": "code",
   "execution_count": 14,
   "id": "6b5660d9",
   "metadata": {
    "execution": {
     "iopub.execute_input": "2021-09-28T15:18:12.903652Z",
     "iopub.status.busy": "2021-09-28T15:18:12.902990Z",
     "iopub.status.idle": "2021-09-28T15:18:12.906832Z",
     "shell.execute_reply": "2021-09-28T15:18:12.906409Z",
     "shell.execute_reply.started": "2021-09-28T15:14:57.039820Z"
    },
    "papermill": {
     "duration": 0.033611,
     "end_time": "2021-09-28T15:18:12.906960",
     "exception": false,
     "start_time": "2021-09-28T15:18:12.873349",
     "status": "completed"
    },
    "tags": []
   },
   "outputs": [
    {
     "name": "stdout",
     "output_type": "stream",
     "text": [
      "Accuracy Score: 0.8264462809917356\n"
     ]
    }
   ],
   "source": [
    "# Now let's check accuracy score on training data\n",
    "Training_score = accuracy_score(train_pred,y_train) #(Basically comparing the original y_train and predictions and seeing difference/error)\n",
    "print(\"Accuracy Score:\",Training_score)"
   ]
  },
  {
   "cell_type": "markdown",
   "id": "ea84d115",
   "metadata": {
    "papermill": {
     "duration": 0.025356,
     "end_time": "2021-09-28T15:18:12.958210",
     "exception": false,
     "start_time": "2021-09-28T15:18:12.932854",
     "status": "completed"
    },
    "tags": []
   },
   "source": [
    "**Our model is 82.6% accurate which is very good.**"
   ]
  },
  {
   "cell_type": "markdown",
   "id": "aa05e9e9",
   "metadata": {
    "papermill": {
     "duration": 0.026004,
     "end_time": "2021-09-28T15:18:13.009834",
     "exception": false,
     "start_time": "2021-09-28T15:18:12.983830",
     "status": "completed"
    },
    "tags": []
   },
   "source": [
    "**But keep in mind that we used training data to check accuracy. We need to check using test data for a better understanding.**"
   ]
  },
  {
   "cell_type": "code",
   "execution_count": 15,
   "id": "aff24517",
   "metadata": {
    "execution": {
     "iopub.execute_input": "2021-09-28T15:18:13.070531Z",
     "iopub.status.busy": "2021-09-28T15:18:13.069692Z",
     "iopub.status.idle": "2021-09-28T15:18:13.073650Z",
     "shell.execute_reply": "2021-09-28T15:18:13.073087Z",
     "shell.execute_reply.started": "2021-09-28T15:15:57.092673Z"
    },
    "papermill": {
     "duration": 0.0369,
     "end_time": "2021-09-28T15:18:13.073786",
     "exception": false,
     "start_time": "2021-09-28T15:18:13.036886",
     "status": "completed"
    },
    "tags": []
   },
   "outputs": [
    {
     "data": {
      "text/plain": [
       "array([1, 1, 1, 1, 0, 0, 1, 1, 0, 1, 0, 1, 0, 0, 1, 1, 0, 1, 0, 0, 1, 1,\n",
       "       0, 0, 1, 1, 1, 0, 0, 1, 1, 1, 0, 0, 1, 0, 1, 0, 0, 0, 1, 1, 0, 0,\n",
       "       1, 1, 0, 1, 1, 1, 1, 1, 1, 0, 0, 0, 0, 1, 1, 1, 1])"
      ]
     },
     "execution_count": 15,
     "metadata": {},
     "output_type": "execute_result"
    }
   ],
   "source": [
    "test_pred = model.predict(X_test)\n",
    "test_pred"
   ]
  },
  {
   "cell_type": "code",
   "execution_count": 16,
   "id": "9d957384",
   "metadata": {
    "execution": {
     "iopub.execute_input": "2021-09-28T15:18:13.131222Z",
     "iopub.status.busy": "2021-09-28T15:18:13.130638Z",
     "iopub.status.idle": "2021-09-28T15:18:13.135834Z",
     "shell.execute_reply": "2021-09-28T15:18:13.135381Z",
     "shell.execute_reply.started": "2021-09-28T15:16:09.529635Z"
    },
    "papermill": {
     "duration": 0.034938,
     "end_time": "2021-09-28T15:18:13.135955",
     "exception": false,
     "start_time": "2021-09-28T15:18:13.101017",
     "status": "completed"
    },
    "tags": []
   },
   "outputs": [
    {
     "name": "stdout",
     "output_type": "stream",
     "text": [
      "Accuracy Score: 0.9016393442622951\n"
     ]
    }
   ],
   "source": [
    "# Accuracy Score\n",
    "Test_score = accuracy_score(test_pred,y_test) \n",
    "print(\"Accuracy Score:\",Test_score)"
   ]
  },
  {
   "cell_type": "markdown",
   "id": "c028d5de",
   "metadata": {
    "papermill": {
     "duration": 0.025672,
     "end_time": "2021-09-28T15:18:13.187631",
     "exception": false,
     "start_time": "2021-09-28T15:18:13.161959",
     "status": "completed"
    },
    "tags": []
   },
   "source": [
    "**Accuracy score for test data is much better, at 90.2%. This means the model is very accurate and will predict accurately most of the time.**"
   ]
  },
  {
   "cell_type": "markdown",
   "id": "a4e9c2ca",
   "metadata": {
    "papermill": {
     "duration": 0.025825,
     "end_time": "2021-09-28T15:18:13.239805",
     "exception": false,
     "start_time": "2021-09-28T15:18:13.213980",
     "status": "completed"
    },
    "tags": []
   },
   "source": [
    "# Conclusion"
   ]
  },
  {
   "cell_type": "markdown",
   "id": "ceeeccf2",
   "metadata": {
    "papermill": {
     "duration": 0.025671,
     "end_time": "2021-09-28T15:18:13.291622",
     "exception": false,
     "start_time": "2021-09-28T15:18:13.265951",
     "status": "completed"
    },
    "tags": []
   },
   "source": [
    "So basically the workflow is like this: Import libraries and dataset -> check for missing values -> perform necessary imputation -> Exploratory Data Analysis -> split data -> train model -> check its accuracy -> improve model or try other ones.\n",
    "\n",
    "**To get better accuracy, try different models or use more training data.**"
   ]
  }
 ],
 "metadata": {
  "kernelspec": {
   "display_name": "Python 3",
   "language": "python",
   "name": "python3"
  },
  "language_info": {
   "codemirror_mode": {
    "name": "ipython",
    "version": 3
   },
   "file_extension": ".py",
   "mimetype": "text/x-python",
   "name": "python",
   "nbconvert_exporter": "python",
   "pygments_lexer": "ipython3",
   "version": "3.7.10"
  },
  "papermill": {
   "default_parameters": {},
   "duration": 13.789993,
   "end_time": "2021-09-28T15:18:14.618365",
   "environment_variables": {},
   "exception": null,
   "input_path": "__notebook__.ipynb",
   "output_path": "__notebook__.ipynb",
   "parameters": {},
   "start_time": "2021-09-28T15:18:00.828372",
   "version": "2.3.3"
  }
 },
 "nbformat": 4,
 "nbformat_minor": 5
}
